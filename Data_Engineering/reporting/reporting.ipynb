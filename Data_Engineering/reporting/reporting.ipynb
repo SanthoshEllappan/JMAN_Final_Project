{
 "cells": [
  {
   "cell_type": "code",
   "execution_count": 2,
   "metadata": {},
   "outputs": [
    {
     "name": "stdout",
     "output_type": "stream",
     "text": [
      "Data combined successfully. Combined data saved to 'combined_report_data.csv'.\n"
     ]
    }
   ],
   "source": [
    "import pandas as pd\n",
    "\n",
    "# Load cleaned data from the preparation layer\n",
    "employee_df = pd.read_csv(r'C:\\Users\\SanthoshKumarE\\Desktop\\Data_Engineering\\prep\\prep_employee_data.csv')\n",
    "project_skills_df = pd.read_csv(r'C:\\Users\\SanthoshKumarE\\Desktop\\Data_Engineering\\prep\\prep_project_skills_data.csv')\n",
    "soft_skills_df = pd.read_csv(r'C:\\Users\\SanthoshKumarE\\Desktop\\Data_Engineering\\prep\\prep_soft_skills_data.csv')\n",
    "technical_skills_df = pd.read_csv(r'C:\\Users\\SanthoshKumarE\\Desktop\\Data_Engineering\\prep\\prep_technical_skills_data.csv')\n",
    "course_df = pd.read_csv(r'C:\\Users\\SanthoshKumarE\\Desktop\\Data_Engineering\\prep\\prep_courses_data.csv')\n",
    "certification_df = pd.read_csv(r'C:\\Users\\SanthoshKumarE\\Desktop\\Data_Engineering\\prep\\prep_certifications_data.csv')\n",
    "achievement_df = pd.read_csv(r'C:\\Users\\SanthoshKumarE\\Desktop\\Data_Engineering\\prep\\prep_achievements_data.csv')\n",
    "\n",
    "# Merge all DataFrames based on user_id\n",
    "# Start with the employee DataFrame\n",
    "combined_df = employee_df\n",
    "\n",
    "# Define the DataFrames to merge\n",
    "dataframes_to_merge = [\n",
    "    project_skills_df,\n",
    "    soft_skills_df,\n",
    "    technical_skills_df,\n",
    "    course_df,\n",
    "    certification_df,\n",
    "    achievement_df\n",
    "]\n",
    "\n",
    "# Perform the merge operation iteratively\n",
    "for df in dataframes_to_merge:\n",
    "    combined_df = pd.merge(combined_df, df, on='userId', how='outer')\n",
    "\n",
    "# Save the combined DataFrame to a new CSV file\n",
    "combined_df.to_csv('combined_report_data.csv', index=False)\n",
    "\n",
    "print(\"Data combined successfully. Combined data saved to 'combined_report_data.csv'.\")\n"
   ]
  },
  {
   "cell_type": "code",
   "execution_count": null,
   "metadata": {},
   "outputs": [],
   "source": []
  }
 ],
 "metadata": {
  "kernelspec": {
   "display_name": "Python 3",
   "language": "python",
   "name": "python3"
  },
  "language_info": {
   "codemirror_mode": {
    "name": "ipython",
    "version": 3
   },
   "file_extension": ".py",
   "mimetype": "text/x-python",
   "name": "python",
   "nbconvert_exporter": "python",
   "pygments_lexer": "ipython3",
   "version": "3.12.5"
  }
 },
 "nbformat": 4,
 "nbformat_minor": 2
}
